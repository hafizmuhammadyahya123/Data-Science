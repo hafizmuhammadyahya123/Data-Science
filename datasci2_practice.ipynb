{
  "cells": [
    {
      "cell_type": "markdown",
      "metadata": {
        "id": "view-in-github",
        "colab_type": "text"
      },
      "source": [
        "<a href=\"https://colab.research.google.com/github/hafizmuhammadyahya123/Data-Science/blob/main/datasci2_practice.ipynb\" target=\"_parent\"><img src=\"https://colab.research.google.com/assets/colab-badge.svg\" alt=\"Open In Colab\"/></a>"
      ]
    },
    {
      "cell_type": "code",
      "execution_count": null,
      "metadata": {
        "colab": {
          "base_uri": "https://localhost:8080/"
        },
        "id": "2KmpfHNNQ3od",
        "outputId": "f56d5890-3243-4118-9a25-d495f063225b"
      },
      "outputs": [
        {
          "data": {
            "text/plain": [
              "array([1, 2, 3, 4, 5, 6])"
            ]
          },
          "execution_count": 1,
          "metadata": {},
          "output_type": "execute_result"
        }
      ],
      "source": [
        "import numpy as np\n",
        "# 1D ARRAY list from array\n",
        "list = [1,2,3,4,5,6]\n",
        "np_array = np.array(list,)\n",
        "np_array"
      ]
    },
    {
      "cell_type": "code",
      "execution_count": null,
      "metadata": {
        "colab": {
          "base_uri": "https://localhost:8080/"
        },
        "id": "TF2_bhqKRo-O",
        "outputId": "8a967c7e-0045-4e8c-c608-40b3244aea84"
      },
      "outputs": [
        {
          "data": {
            "text/plain": [
              "array([20, 21, 22, 23, 24, 25, 26, 27, 28, 29, 30])"
            ]
          },
          "execution_count": 12,
          "metadata": {},
          "output_type": "execute_result"
        }
      ],
      "source": [
        "# 1D ARRAY using arange()\n",
        "arange_fn = np.arange(20,31)\n",
        "arange_fn"
      ]
    },
    {
      "cell_type": "code",
      "execution_count": null,
      "metadata": {
        "colab": {
          "base_uri": "https://localhost:8080/"
        },
        "id": "wCgQCFNjU7q-",
        "outputId": "6136ef1b-78ce-4af9-c819-99aa023b99d9"
      },
      "outputs": [
        {
          "data": {
            "text/plain": [
              "array([[20],\n",
              "       [21],\n",
              "       [22],\n",
              "       [23],\n",
              "       [24],\n",
              "       [25],\n",
              "       [26],\n",
              "       [27],\n",
              "       [28],\n",
              "       [29],\n",
              "       [30]])"
            ]
          },
          "execution_count": 17,
          "metadata": {},
          "output_type": "execute_result"
        }
      ],
      "source": [
        "# 2D ARRAY using reshape()\n",
        "reshape_fn = arange_fn.reshape(11,1)\n",
        "reshape_fn"
      ]
    },
    {
      "cell_type": "code",
      "execution_count": null,
      "metadata": {
        "colab": {
          "base_uri": "https://localhost:8080/"
        },
        "id": "Kh0rhTpESSMa",
        "outputId": "a9ab08bc-85c6-46b8-ea75-d497d3fb5984"
      },
      "outputs": [
        {
          "data": {
            "text/plain": [
              "array([[ 20.,  30.,  40.,  50.,  60.],\n",
              "       [ 70.,  80.,  90., 100., 110.]])"
            ]
          },
          "execution_count": 18,
          "metadata": {},
          "output_type": "execute_result"
        }
      ],
      "source": [
        "# 2D ARRAY list from array\n",
        "list_int = [[20,30,40,50,60],[70,80,90,100,110]]\n",
        "np_array = np.array(list_int,dtype=float)\n",
        "np_array"
      ]
    },
    {
      "cell_type": "code",
      "execution_count": null,
      "metadata": {
        "colab": {
          "base_uri": "https://localhost:8080/"
        },
        "id": "wWsNSIxIS3Jr",
        "outputId": "aca279d4-5952-4fc9-f41d-8c3b982f7218"
      },
      "outputs": [
        {
          "data": {
            "text/plain": [
              "array([[ 2,  3,  4],\n",
              "       [ 5,  6,  7],\n",
              "       [ 8,  9, 10]])"
            ]
          },
          "execution_count": 25,
          "metadata": {},
          "output_type": "execute_result"
        }
      ],
      "source": [
        "# 2D ARRAY using arange().reshape()\n",
        "np_array_arange_reshape = np.arange(2,11).reshape(3,3)\n",
        "np_array_arange_reshape"
      ]
    },
    {
      "cell_type": "code",
      "execution_count": null,
      "metadata": {
        "colab": {
          "base_uri": "https://localhost:8080/"
        },
        "id": "_Oz4tBSeTs9q",
        "outputId": "a7123052-1046-4d6e-f3d7-5b6053eb60a7"
      },
      "outputs": [
        {
          "data": {
            "text/plain": [
              "(3, 3)"
            ]
          },
          "execution_count": 27,
          "metadata": {},
          "output_type": "execute_result"
        }
      ],
      "source": [
        "np_array_arange_reshape.shape\n"
      ]
    },
    {
      "cell_type": "code",
      "execution_count": null,
      "metadata": {
        "colab": {
          "background_save": true,
          "base_uri": "https://localhost:8080/",
          "height": 141
        },
        "id": "KSLOYBYOX6sY",
        "outputId": "6f234144-4972-4d39-b1a2-cca809608cbd"
      },
      "outputs": [
        {
          "data": {
            "text/plain": [
              "9"
            ]
          },
          "execution_count": 30,
          "metadata": {},
          "output_type": "execute_result"
        }
      ],
      "source": [
        "np_array_arange_reshape.size"
      ]
    },
    {
      "cell_type": "code",
      "execution_count": null,
      "metadata": {
        "id": "Ep90HNlaX_OM",
        "colab": {
          "base_uri": "https://localhost:8080/"
        },
        "outputId": "9ed6d40d-03c4-4a00-d3a8-8bfcb0d9c7ee"
      },
      "outputs": [
        {
          "output_type": "execute_result",
          "data": {
            "text/plain": [
              "array([[2.1, 2.4, 2.9, 3.1, 9.9],\n",
              "       [2.1, 2.2, 9.8, 1.1, 2.3]])"
            ]
          },
          "metadata": {},
          "execution_count": 9
        }
      ],
      "source": [
        "# 2D  using list\n",
        "import numpy as np\n",
        "float_list = [[2.1,2.4,2.9,3.1,9.9],[2.1,2.2,9.8,1.1,2.3]]\n",
        "np_array = np.array(float_list)\n",
        "np_array"
      ]
    },
    {
      "cell_type": "code",
      "source": [
        "type(np_array)"
      ],
      "metadata": {
        "colab": {
          "base_uri": "https://localhost:8080/"
        },
        "id": "A6q3etnE2B_X",
        "outputId": "07aee580-1bb1-49c1-d9b9-7b3424f5ee8a"
      },
      "execution_count": null,
      "outputs": [
        {
          "output_type": "execute_result",
          "data": {
            "text/plain": [
              "numpy.ndarray"
            ]
          },
          "metadata": {},
          "execution_count": 10
        }
      ]
    },
    {
      "cell_type": "code",
      "source": [
        "np_array = np.array(np_array,'U32')\n",
        "np_array"
      ],
      "metadata": {
        "colab": {
          "base_uri": "https://localhost:8080/"
        },
        "id": "LlyC6CGU1phn",
        "outputId": "0bf605c5-0e95-4fdf-fd13-822904a4c37c"
      },
      "execution_count": null,
      "outputs": [
        {
          "output_type": "execute_result",
          "data": {
            "text/plain": [
              "array([['2.1', '2.4', '2.9', '3.1', '9.9'],\n",
              "       ['2.1', '2.2', '9.8', '1.1', '2.3']], dtype='<U32')"
            ]
          },
          "metadata": {},
          "execution_count": 7
        }
      ]
    },
    {
      "cell_type": "code",
      "source": [
        "# 3D\n",
        "array_range = np.arange(100,200,1).reshape(5,10,2)\n",
        "array_range"
      ],
      "metadata": {
        "colab": {
          "base_uri": "https://localhost:8080/"
        },
        "id": "iCWR5qJh2DZG",
        "outputId": "019cae72-e46a-4843-fd24-581cc3d37e97"
      },
      "execution_count": null,
      "outputs": [
        {
          "output_type": "execute_result",
          "data": {
            "text/plain": [
              "array([[[100, 101],\n",
              "        [102, 103],\n",
              "        [104, 105],\n",
              "        [106, 107],\n",
              "        [108, 109],\n",
              "        [110, 111],\n",
              "        [112, 113],\n",
              "        [114, 115],\n",
              "        [116, 117],\n",
              "        [118, 119]],\n",
              "\n",
              "       [[120, 121],\n",
              "        [122, 123],\n",
              "        [124, 125],\n",
              "        [126, 127],\n",
              "        [128, 129],\n",
              "        [130, 131],\n",
              "        [132, 133],\n",
              "        [134, 135],\n",
              "        [136, 137],\n",
              "        [138, 139]],\n",
              "\n",
              "       [[140, 141],\n",
              "        [142, 143],\n",
              "        [144, 145],\n",
              "        [146, 147],\n",
              "        [148, 149],\n",
              "        [150, 151],\n",
              "        [152, 153],\n",
              "        [154, 155],\n",
              "        [156, 157],\n",
              "        [158, 159]],\n",
              "\n",
              "       [[160, 161],\n",
              "        [162, 163],\n",
              "        [164, 165],\n",
              "        [166, 167],\n",
              "        [168, 169],\n",
              "        [170, 171],\n",
              "        [172, 173],\n",
              "        [174, 175],\n",
              "        [176, 177],\n",
              "        [178, 179]],\n",
              "\n",
              "       [[180, 181],\n",
              "        [182, 183],\n",
              "        [184, 185],\n",
              "        [186, 187],\n",
              "        [188, 189],\n",
              "        [190, 191],\n",
              "        [192, 193],\n",
              "        [194, 195],\n",
              "        [196, 197],\n",
              "        [198, 199]]])"
            ]
          },
          "metadata": {},
          "execution_count": 17
        }
      ]
    },
    {
      "cell_type": "code",
      "source": [
        "# 3D\n",
        "array_range = np.arange(100,200,3).reshape(17,2)\n",
        "array_range"
      ],
      "metadata": {
        "colab": {
          "base_uri": "https://localhost:8080/"
        },
        "id": "k0rr0Cc43K0I",
        "outputId": "093978ba-717d-4d41-f7e1-779e169f1ddc"
      },
      "execution_count": null,
      "outputs": [
        {
          "output_type": "execute_result",
          "data": {
            "text/plain": [
              "array([[100, 103],\n",
              "       [106, 109],\n",
              "       [112, 115],\n",
              "       [118, 121],\n",
              "       [124, 127],\n",
              "       [130, 133],\n",
              "       [136, 139],\n",
              "       [142, 145],\n",
              "       [148, 151],\n",
              "       [154, 157],\n",
              "       [160, 163],\n",
              "       [166, 169],\n",
              "       [172, 175],\n",
              "       [178, 181],\n",
              "       [184, 187],\n",
              "       [190, 193],\n",
              "       [196, 199]])"
            ]
          },
          "metadata": {},
          "execution_count": 21
        }
      ]
    }
  ],
  "metadata": {
    "colab": {
      "provenance": [],
      "authorship_tag": "ABX9TyMI5uJIsNfY5Ol118JBuBgt",
      "include_colab_link": true
    },
    "kernelspec": {
      "display_name": "Python 3",
      "name": "python3"
    },
    "language_info": {
      "name": "python"
    }
  },
  "nbformat": 4,
  "nbformat_minor": 0
}