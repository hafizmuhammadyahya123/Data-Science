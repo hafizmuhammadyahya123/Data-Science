{
  "cells": [
    {
      "cell_type": "markdown",
      "metadata": {
        "id": "view-in-github",
        "colab_type": "text"
      },
      "source": [
        "<a href=\"https://colab.research.google.com/github/hafizmuhammadyahya123/Data-Science/blob/main/datasci2.ipynb\" target=\"_parent\"><img src=\"https://colab.research.google.com/assets/colab-badge.svg\" alt=\"Open In Colab\"/></a>"
      ]
    },
    {
      "cell_type": "markdown",
      "metadata": {
        "id": "Gc_Gij2mrqjr"
      },
      "source": [
        "NUMPY\n"
      ]
    },
    {
      "cell_type": "code",
      "execution_count": null,
      "metadata": {
        "colab": {
          "base_uri": "https://localhost:8080/"
        },
        "id": "JKVrL9yZrtlH",
        "outputId": "f14c20db-08ca-48e4-f64b-b703a256e1b4"
      },
      "outputs": [
        {
          "output_type": "execute_result",
          "data": {
            "text/plain": [
              "array([ 0,  1,  2,  3,  4,  5,  6,  7,  8,  9, 10, 11, 12, 13, 14, 15])"
            ]
          },
          "metadata": {},
          "execution_count": 39
        }
      ],
      "source": [
        "import numpy as np\n",
        "x = np.arange(16)  #1D ARRAY\n",
        "x"
      ]
    },
    {
      "cell_type": "code",
      "execution_count": null,
      "metadata": {
        "colab": {
          "base_uri": "https://localhost:8080/"
        },
        "id": "btQSj5V7WJoV",
        "outputId": "ea171f0e-b6a3-453f-c504-a022120cf05d"
      },
      "outputs": [
        {
          "output_type": "execute_result",
          "data": {
            "text/plain": [
              "16"
            ]
          },
          "metadata": {},
          "execution_count": 40
        }
      ],
      "source": [
        "x.size"
      ]
    },
    {
      "cell_type": "code",
      "execution_count": null,
      "metadata": {
        "colab": {
          "base_uri": "https://localhost:8080/"
        },
        "id": "GVLgOaqKWUr_",
        "outputId": "b041ac08-029f-411e-a3bd-73df94ee3855"
      },
      "outputs": [
        {
          "output_type": "execute_result",
          "data": {
            "text/plain": [
              "(16,)"
            ]
          },
          "metadata": {},
          "execution_count": 41
        }
      ],
      "source": [
        "x.shape"
      ]
    },
    {
      "cell_type": "code",
      "source": [
        "x2 = np.arange(10) #1D\n",
        "x2"
      ],
      "metadata": {
        "colab": {
          "base_uri": "https://localhost:8080/"
        },
        "id": "DD4JxZPOgsV3",
        "outputId": "c39e0890-16ba-4f6e-ba3e-d590a24a8f48"
      },
      "execution_count": null,
      "outputs": [
        {
          "output_type": "execute_result",
          "data": {
            "text/plain": [
              "array([0, 1, 2, 3, 4, 5, 6, 7, 8, 9])"
            ]
          },
          "metadata": {},
          "execution_count": 12
        }
      ]
    },
    {
      "cell_type": "code",
      "source": [
        "x2.size"
      ],
      "metadata": {
        "colab": {
          "base_uri": "https://localhost:8080/"
        },
        "id": "iE1qVvIHg369",
        "outputId": "c5d74bbf-b3fa-4b47-b4f5-d1a87d8246d6"
      },
      "execution_count": null,
      "outputs": [
        {
          "output_type": "execute_result",
          "data": {
            "text/plain": [
              "10"
            ]
          },
          "metadata": {},
          "execution_count": 14
        }
      ]
    },
    {
      "cell_type": "code",
      "source": [
        "x2.shape"
      ],
      "metadata": {
        "colab": {
          "base_uri": "https://localhost:8080/"
        },
        "id": "r3H8WApWg9Q9",
        "outputId": "ec94492c-5cc9-4091-e62d-78cab75045b1"
      },
      "execution_count": null,
      "outputs": [
        {
          "output_type": "execute_result",
          "data": {
            "text/plain": [
              "(10,)"
            ]
          },
          "metadata": {},
          "execution_count": 15
        }
      ]
    },
    {
      "cell_type": "code",
      "source": [
        "x3 = np.arange(20) #1D\n",
        "x3"
      ],
      "metadata": {
        "colab": {
          "base_uri": "https://localhost:8080/"
        },
        "id": "ihpKmKoQhLkU",
        "outputId": "15c2629b-05aa-453e-e1a4-d569af1c7eb3"
      },
      "execution_count": null,
      "outputs": [
        {
          "output_type": "execute_result",
          "data": {
            "text/plain": [
              "array([ 0,  1,  2,  3,  4,  5,  6,  7,  8,  9, 10, 11, 12, 13, 14, 15, 16,\n",
              "       17, 18, 19])"
            ]
          },
          "metadata": {},
          "execution_count": 16
        }
      ]
    },
    {
      "cell_type": "code",
      "source": [
        "x.size"
      ],
      "metadata": {
        "colab": {
          "base_uri": "https://localhost:8080/"
        },
        "id": "e5DRsf3Xhbtr",
        "outputId": "4be7577e-cdfe-4176-a1d0-431ecd5454c7"
      },
      "execution_count": null,
      "outputs": [
        {
          "output_type": "execute_result",
          "data": {
            "text/plain": [
              "16"
            ]
          },
          "metadata": {},
          "execution_count": 17
        }
      ]
    },
    {
      "cell_type": "code",
      "source": [
        "x.shape"
      ],
      "metadata": {
        "colab": {
          "base_uri": "https://localhost:8080/"
        },
        "id": "l-fGiGWShfTO",
        "outputId": "eeb93810-a4f4-46d6-d670-e6712b7008a3"
      },
      "execution_count": null,
      "outputs": [
        {
          "output_type": "execute_result",
          "data": {
            "text/plain": [
              "(16,)"
            ]
          },
          "metadata": {},
          "execution_count": 18
        }
      ]
    },
    {
      "cell_type": "code",
      "source": [
        "x4 = np.array([[1,2,3,4],[5,7,9,11]]) #2D\n",
        "x4"
      ],
      "metadata": {
        "colab": {
          "base_uri": "https://localhost:8080/"
        },
        "id": "zWUaXex1hjRw",
        "outputId": "5725c245-0944-4606-d20d-629600033404"
      },
      "execution_count": null,
      "outputs": [
        {
          "output_type": "execute_result",
          "data": {
            "text/plain": [
              "array([[ 1,  2,  3,  4],\n",
              "       [ 5,  7,  9, 11]])"
            ]
          },
          "metadata": {},
          "execution_count": 21
        }
      ]
    },
    {
      "cell_type": "code",
      "source": [
        "x4.size"
      ],
      "metadata": {
        "colab": {
          "base_uri": "https://localhost:8080/"
        },
        "id": "2Ijht8_NiPGk",
        "outputId": "75d50f5b-d8a8-4fab-b0b5-59a497cb184a"
      },
      "execution_count": null,
      "outputs": [
        {
          "output_type": "execute_result",
          "data": {
            "text/plain": [
              "8"
            ]
          },
          "metadata": {},
          "execution_count": 22
        }
      ]
    },
    {
      "cell_type": "code",
      "source": [
        "x4.shape"
      ],
      "metadata": {
        "colab": {
          "base_uri": "https://localhost:8080/"
        },
        "id": "KKsZKPuXiW0h",
        "outputId": "54a4f91f-a8bf-4fa1-c156-30941004cb32"
      },
      "execution_count": null,
      "outputs": [
        {
          "output_type": "execute_result",
          "data": {
            "text/plain": [
              "(2, 4)"
            ]
          },
          "metadata": {},
          "execution_count": 23
        }
      ]
    },
    {
      "cell_type": "code",
      "source": [
        "x5 = np.array(['a','b','c','d','d']) #1D\n",
        "x5"
      ],
      "metadata": {
        "colab": {
          "base_uri": "https://localhost:8080/"
        },
        "id": "2fd981Vyij1x",
        "outputId": "910793b1-08ed-402b-f933-3dc63cde4487"
      },
      "execution_count": null,
      "outputs": [
        {
          "output_type": "execute_result",
          "data": {
            "text/plain": [
              "array(['a', 'b', 'c', 'd', 'd'], dtype='<U1')"
            ]
          },
          "metadata": {},
          "execution_count": 24
        }
      ]
    },
    {
      "cell_type": "code",
      "source": [
        "x5.size"
      ],
      "metadata": {
        "colab": {
          "base_uri": "https://localhost:8080/"
        },
        "id": "DtYwX8C0iyMD",
        "outputId": "34a399b9-70f6-4571-f3db-d245991994bd"
      },
      "execution_count": null,
      "outputs": [
        {
          "output_type": "execute_result",
          "data": {
            "text/plain": [
              "5"
            ]
          },
          "metadata": {},
          "execution_count": 25
        }
      ]
    },
    {
      "cell_type": "code",
      "source": [
        "type(x5)"
      ],
      "metadata": {
        "colab": {
          "base_uri": "https://localhost:8080/"
        },
        "id": "MXmtPYNnlrLI",
        "outputId": "5d1f6ba8-5ad6-4494-c6eb-68d2681056ff"
      },
      "execution_count": null,
      "outputs": [
        {
          "output_type": "execute_result",
          "data": {
            "text/plain": [
              "numpy.ndarray"
            ]
          },
          "metadata": {},
          "execution_count": 32
        }
      ]
    },
    {
      "cell_type": "code",
      "source": [
        "x5.shape"
      ],
      "metadata": {
        "colab": {
          "base_uri": "https://localhost:8080/"
        },
        "id": "7tFk_FXfi1dr",
        "outputId": "b1a53e05-0bad-4417-9431-b9c01a9f5d23"
      },
      "execution_count": null,
      "outputs": [
        {
          "output_type": "execute_result",
          "data": {
            "text/plain": [
              "(5,)"
            ]
          },
          "metadata": {},
          "execution_count": 26
        }
      ]
    },
    {
      "cell_type": "code",
      "source": [
        "x6 = np.array({\"a\":1,\"b\":2,\"c\":3})\n",
        "x6"
      ],
      "metadata": {
        "colab": {
          "base_uri": "https://localhost:8080/"
        },
        "id": "k6NnV-cJienh",
        "outputId": "0522ba70-098c-4eb1-ed8c-506bb43bfd16"
      },
      "execution_count": null,
      "outputs": [
        {
          "output_type": "execute_result",
          "data": {
            "text/plain": [
              "array({'a': 1, 'b': 2, 'c': 3}, dtype=object)"
            ]
          },
          "metadata": {},
          "execution_count": 27
        }
      ]
    },
    {
      "cell_type": "code",
      "source": [
        "type(x6)"
      ],
      "metadata": {
        "colab": {
          "base_uri": "https://localhost:8080/"
        },
        "id": "hdYFe_A4jPe7",
        "outputId": "60d6736a-3aa3-4ccc-8285-85fb7eae1481"
      },
      "execution_count": null,
      "outputs": [
        {
          "output_type": "execute_result",
          "data": {
            "text/plain": [
              "numpy.ndarray"
            ]
          },
          "metadata": {},
          "execution_count": 29
        }
      ]
    },
    {
      "cell_type": "code",
      "source": [
        "x6.size"
      ],
      "metadata": {
        "colab": {
          "base_uri": "https://localhost:8080/"
        },
        "id": "Sy2VzN4ajXnL",
        "outputId": "a7a532be-d5c0-4c4d-8d49-86d9e3217fde"
      },
      "execution_count": null,
      "outputs": [
        {
          "output_type": "execute_result",
          "data": {
            "text/plain": [
              "1"
            ]
          },
          "metadata": {},
          "execution_count": 30
        }
      ]
    },
    {
      "cell_type": "code",
      "source": [
        "x6.shape"
      ],
      "metadata": {
        "colab": {
          "base_uri": "https://localhost:8080/"
        },
        "id": "wdD9YWlqjlxf",
        "outputId": "14d1b9ae-9678-4305-ed90-e10c9ba71311"
      },
      "execution_count": null,
      "outputs": [
        {
          "output_type": "execute_result",
          "data": {
            "text/plain": [
              "()"
            ]
          },
          "metadata": {},
          "execution_count": 31
        }
      ]
    },
    {
      "cell_type": "code",
      "execution_count": null,
      "metadata": {
        "colab": {
          "base_uri": "https://localhost:8080/"
        },
        "id": "Drgmc6odWe4W",
        "outputId": "c0d3bbc9-a0b5-4a22-d8a8-159812eee5a9"
      },
      "outputs": [
        {
          "output_type": "execute_result",
          "data": {
            "text/plain": [
              "array([[ 0,  1,  2,  3],\n",
              "       [ 4,  5,  6,  7],\n",
              "       [ 8,  9, 10, 11],\n",
              "       [12, 13, 14, 15]])"
            ]
          },
          "metadata": {},
          "execution_count": 42
        }
      ],
      "source": [
        "x1 = x.reshape(4 , 4)  #2D ARRAY\n",
        "x1"
      ]
    },
    {
      "cell_type": "code",
      "execution_count": null,
      "metadata": {
        "colab": {
          "base_uri": "https://localhost:8080/"
        },
        "id": "BjobJj0PWp_9",
        "outputId": "91990bd8-eaf8-4573-d7f5-55a774b9cbec"
      },
      "outputs": [
        {
          "data": {
            "text/plain": [
              "array([[[ 0,  1,  2,  3],\n",
              "        [ 4,  5,  6,  7]],\n",
              "\n",
              "       [[ 8,  9, 10, 11],\n",
              "        [12, 13, 14, 15]]])"
            ]
          },
          "execution_count": 27,
          "metadata": {},
          "output_type": "execute_result"
        }
      ],
      "source": [
        "x3 = x.reshape(2 , 2 , 4)  #3D ARRAY\n",
        "x3"
      ]
    },
    {
      "cell_type": "code",
      "execution_count": null,
      "metadata": {
        "colab": {
          "base_uri": "https://localhost:8080/"
        },
        "id": "dpZ8d0ShY0rX",
        "outputId": "56c967e8-c55e-4512-dbed-7eb8135c1110"
      },
      "outputs": [
        {
          "data": {
            "text/plain": [
              "array([ 0,  1,  2,  3,  4,  5,  6,  7,  8,  9, 10, 11, 12, 13, 14, 15, 16,\n",
              "       17, 18, 19, 20, 21, 22, 23, 24])"
            ]
          },
          "execution_count": 35,
          "metadata": {},
          "output_type": "execute_result"
        }
      ],
      "source": [
        "x = np.arange(25)\n",
        "x"
      ]
    },
    {
      "cell_type": "code",
      "execution_count": null,
      "metadata": {
        "colab": {
          "base_uri": "https://localhost:8080/"
        },
        "id": "YMJSnD-3X-FF",
        "outputId": "5a6e9afb-1f90-4831-f00a-0fe89dca5f85"
      },
      "outputs": [
        {
          "data": {
            "text/plain": [
              "array([[ 0,  1,  2,  3,  4],\n",
              "       [ 5,  6,  7,  8,  9],\n",
              "       [10, 11, 12, 13, 14],\n",
              "       [15, 16, 17, 18, 19],\n",
              "       [20, 21, 22, 23, 24]])"
            ]
          },
          "execution_count": 37,
          "metadata": {},
          "output_type": "execute_result"
        }
      ],
      "source": [
        "x1 = x.reshape(5 , 5)\n",
        "x1"
      ]
    },
    {
      "cell_type": "code",
      "execution_count": null,
      "metadata": {
        "colab": {
          "base_uri": "https://localhost:8080/"
        },
        "id": "vLl2WVtSXAPT",
        "outputId": "7be80c3f-9fef-441b-9e7f-f2efc9df85e4"
      },
      "outputs": [
        {
          "data": {
            "text/plain": [
              "array([20, 21, 22, 23, 24])"
            ]
          },
          "execution_count": 38,
          "metadata": {},
          "output_type": "execute_result"
        }
      ],
      "source": [
        "x1.max(axis=0) #max(axis=0) means every column always highest num print"
      ]
    },
    {
      "cell_type": "code",
      "execution_count": null,
      "metadata": {
        "colab": {
          "base_uri": "https://localhost:8080/"
        },
        "id": "l6ZRCr_5Znyh",
        "outputId": "4b04657f-8ef5-4e6d-fdd6-78a7beeb8307"
      },
      "outputs": [
        {
          "data": {
            "text/plain": [
              "array([ 4,  9, 14, 19, 24])"
            ]
          },
          "execution_count": 39,
          "metadata": {},
          "output_type": "execute_result"
        }
      ],
      "source": [
        "x1.max(axis=1) #max(axis=1) means every row always highest num print"
      ]
    },
    {
      "cell_type": "code",
      "execution_count": null,
      "metadata": {
        "colab": {
          "base_uri": "https://localhost:8080/"
        },
        "id": "f4uWkkjfaxXt",
        "outputId": "84283126-da3f-4cd8-eb80-62e61a273a16"
      },
      "outputs": [
        {
          "data": {
            "text/plain": [
              "array([[ 0,  1,  2,  3],\n",
              "       [ 4,  5,  6,  7],\n",
              "       [ 8,  9, 10, 11],\n",
              "       [12, 13, 14, 15]])"
            ]
          },
          "execution_count": 42,
          "metadata": {},
          "output_type": "execute_result"
        }
      ],
      "source": [
        "arr = np.arange(16).reshape(4,4) #2D ARRAY\n",
        "arr"
      ]
    },
    {
      "cell_type": "code",
      "execution_count": null,
      "metadata": {
        "colab": {
          "base_uri": "https://localhost:8080/"
        },
        "id": "8REHErJLbVVU",
        "outputId": "5656530d-e0f9-4405-984c-52d2eca3c472"
      },
      "outputs": [
        {
          "data": {
            "text/plain": [
              "array([[[ 0,  1,  2,  3,  4,  5],\n",
              "        [ 6,  7,  8,  9, 10, 11],\n",
              "        [12, 13, 14, 15, 16, 17]],\n",
              "\n",
              "       [[18, 19, 20, 21, 22, 23],\n",
              "        [24, 25, 26, 27, 28, 29],\n",
              "        [30, 31, 32, 33, 34, 35]]])"
            ]
          },
          "execution_count": 45,
          "metadata": {},
          "output_type": "execute_result"
        }
      ],
      "source": [
        "arr1 = np.arange(36).reshape(2 , 3 , 6) #3D\n",
        "arr1"
      ]
    },
    {
      "cell_type": "code",
      "execution_count": null,
      "metadata": {
        "colab": {
          "base_uri": "https://localhost:8080/"
        },
        "id": "TEbQ03hYca3K",
        "outputId": "983680e5-dff5-4561-c44b-0bfc0830053d"
      },
      "outputs": [
        {
          "data": {
            "text/plain": [
              "array([[[ 0,  1,  2,  3,  4,  5,  6,  7],\n",
              "        [ 8,  9, 10, 11, 12, 13, 14, 15],\n",
              "        [16, 17, 18, 19, 20, 21, 22, 23],\n",
              "        [24, 25, 26, 27, 28, 29, 30, 31]],\n",
              "\n",
              "       [[32, 33, 34, 35, 36, 37, 38, 39],\n",
              "        [40, 41, 42, 43, 44, 45, 46, 47],\n",
              "        [48, 49, 50, 51, 52, 53, 54, 55],\n",
              "        [56, 57, 58, 59, 60, 61, 62, 63]]])"
            ]
          },
          "execution_count": 46,
          "metadata": {},
          "output_type": "execute_result"
        }
      ],
      "source": [
        "array2 = np.arange(64).reshape(2 , 4 , 8)\n",
        "array2"
      ]
    },
    {
      "cell_type": "code",
      "execution_count": null,
      "metadata": {
        "colab": {
          "base_uri": "https://localhost:8080/"
        },
        "id": "50hFLaLndQCU",
        "outputId": "417cc282-1914-4313-a2df-7c44e4efe839"
      },
      "outputs": [
        {
          "data": {
            "text/plain": [
              "array([[0., 0., 0., 0.],\n",
              "       [0., 0., 0., 0.],\n",
              "       [0., 0., 0., 0.],\n",
              "       [0., 0., 0., 0.]])"
            ]
          },
          "execution_count": 47,
          "metadata": {},
          "output_type": "execute_result"
        }
      ],
      "source": [
        "z = np.zeros(( 4 , 4)) #zero k case main argument ko tuple form main pss kren gy\n",
        "z"
      ]
    },
    {
      "cell_type": "code",
      "execution_count": null,
      "metadata": {
        "colab": {
          "base_uri": "https://localhost:8080/"
        },
        "id": "Ii1EHU3Sufip",
        "outputId": "5ffd1b82-4a4e-4e26-a488-52df9f47eaf1"
      },
      "outputs": [
        {
          "data": {
            "text/plain": [
              "2"
            ]
          },
          "execution_count": 63,
          "metadata": {},
          "output_type": "execute_result"
        }
      ],
      "source": [
        "z.ndim"
      ]
    },
    {
      "cell_type": "code",
      "execution_count": null,
      "metadata": {
        "colab": {
          "base_uri": "https://localhost:8080/"
        },
        "id": "zGhlHBfXjY5a",
        "outputId": "c3cacb4b-80d9-47ba-aca1-708c300c1f75"
      },
      "outputs": [
        {
          "data": {
            "text/plain": [
              "array([[1., 1., 1., 1.],\n",
              "       [1., 1., 1., 1.],\n",
              "       [1., 1., 1., 1.],\n",
              "       [1., 1., 1., 1.]])"
            ]
          },
          "execution_count": 48,
          "metadata": {},
          "output_type": "execute_result"
        }
      ],
      "source": [
        "one = np.ones((4 , 4)) #one k case main argument ko tuple form main pss kren gy\n",
        "one"
      ]
    },
    {
      "cell_type": "code",
      "execution_count": null,
      "metadata": {
        "colab": {
          "base_uri": "https://localhost:8080/"
        },
        "id": "c8Gh8o6OjxmZ",
        "outputId": "125e9184-dce6-4bc8-9203-813b44fbaedb"
      },
      "outputs": [
        {
          "data": {
            "text/plain": [
              "array([[1., 1., 1., 1.],\n",
              "       [1., 1., 1., 1.],\n",
              "       [1., 1., 1., 1.],\n",
              "       [1., 1., 1., 1.]])"
            ]
          },
          "execution_count": 49,
          "metadata": {},
          "output_type": "execute_result"
        }
      ],
      "source": [
        "emp = np.empty((4 , 4)) #empty main kuch na kuch value mily gi khali nahi hoga or isy tuple ya list main argument pss\n",
        "emp"
      ]
    },
    {
      "cell_type": "code",
      "execution_count": null,
      "metadata": {
        "colab": {
          "base_uri": "https://localhost:8080/"
        },
        "id": "yuxrknmMkaTc",
        "outputId": "a51b8acd-a75c-4b53-c040-6437e68b974e"
      },
      "outputs": [
        {
          "data": {
            "text/plain": [
              "array([[[1., 1.],\n",
              "        [1., 1.],\n",
              "        [1., 1.],\n",
              "        [1., 1.]],\n",
              "\n",
              "       [[1., 1.],\n",
              "        [1., 1.],\n",
              "        [1., 1.],\n",
              "        [1., 1.]]])"
            ]
          },
          "execution_count": 52,
          "metadata": {},
          "output_type": "execute_result"
        }
      ],
      "source": [
        "# 2D\n",
        "emp1 = np.empty((2 , 4 , 2)) #empty argument pss tuple\n",
        "emp1"
      ]
    },
    {
      "cell_type": "code",
      "execution_count": null,
      "metadata": {
        "colab": {
          "base_uri": "https://localhost:8080/"
        },
        "id": "c9p_IqpcoCJ7",
        "outputId": "9bb76743-a5f2-4b93-cef4-2b8d2dada7ab"
      },
      "outputs": [
        {
          "data": {
            "text/plain": [
              "array([[[1., 1.],\n",
              "        [1., 1.],\n",
              "        [1., 1.],\n",
              "        [1., 1.]],\n",
              "\n",
              "       [[1., 1.],\n",
              "        [1., 1.],\n",
              "        [1., 1.],\n",
              "        [1., 1.]]])"
            ]
          },
          "execution_count": 53,
          "metadata": {},
          "output_type": "execute_result"
        }
      ],
      "source": [
        "# 2D\n",
        "emp1 = np.empty([2 , 4 , 2]) #empty() argument always tuple ya list main pss\n",
        "emp1"
      ]
    },
    {
      "cell_type": "code",
      "execution_count": null,
      "metadata": {
        "colab": {
          "base_uri": "https://localhost:8080/"
        },
        "id": "crLoPzjkp9Mk",
        "outputId": "a7c974c8-7c9d-4ab2-b1a8-e03bb0b99d6d"
      },
      "outputs": [
        {
          "data": {
            "text/plain": [
              "array([[44, 44, 44],\n",
              "       [44, 44, 44]])"
            ]
          },
          "execution_count": 54,
          "metadata": {},
          "output_type": "execute_result"
        }
      ],
      "source": [
        "ary = np.full([2,3], [44])\n",
        "ary"
      ]
    },
    {
      "cell_type": "code",
      "execution_count": null,
      "metadata": {
        "colab": {
          "base_uri": "https://localhost:8080/"
        },
        "id": "_NeBPy4ar0I3",
        "outputId": "a3d22b99-58d1-44d8-c363-9b53681551ba"
      },
      "outputs": [
        {
          "data": {
            "text/plain": [
              "array([[100, 100, 100, 100],\n",
              "       [100, 100, 100, 100],\n",
              "       [100, 100, 100, 100],\n",
              "       [100, 100, 100, 100]])"
            ]
          },
          "execution_count": 55,
          "metadata": {},
          "output_type": "execute_result"
        }
      ],
      "source": [
        "ary1 = np.full([4,4], (100))\n",
        "ary1"
      ]
    },
    {
      "cell_type": "code",
      "execution_count": null,
      "metadata": {
        "colab": {
          "base_uri": "https://localhost:8080/"
        },
        "id": "NsLhdgtSr__j",
        "outputId": "495af499-d4df-4d24-fbf8-8fdae648d244"
      },
      "outputs": [
        {
          "data": {
            "text/plain": [
              "array([[[50, 50, 50, 50, 50, 50],\n",
              "        [50, 50, 50, 50, 50, 50],\n",
              "        [50, 50, 50, 50, 50, 50]],\n",
              "\n",
              "       [[50, 50, 50, 50, 50, 50],\n",
              "        [50, 50, 50, 50, 50, 50],\n",
              "        [50, 50, 50, 50, 50, 50]]])"
            ]
          },
          "execution_count": 58,
          "metadata": {},
          "output_type": "execute_result"
        }
      ],
      "source": [
        "ary2 = np.full([2,3,6], (50)) #3D\n",
        "ary2"
      ]
    },
    {
      "cell_type": "code",
      "execution_count": null,
      "metadata": {
        "colab": {
          "base_uri": "https://localhost:8080/"
        },
        "id": "peEN-QEUsVhL",
        "outputId": "12ae4170-9607-42ac-87f4-51061474f4d7"
      },
      "outputs": [
        {
          "data": {
            "text/plain": [
              "array([[[12, 12],\n",
              "        [12, 12],\n",
              "        [12, 12]],\n",
              "\n",
              "       [[12, 12],\n",
              "        [12, 12],\n",
              "        [12, 12]]])"
            ]
          },
          "execution_count": 61,
          "metadata": {},
          "output_type": "execute_result"
        }
      ],
      "source": [
        "ary3 = np.full([2,3,2], (12))\n",
        "ary3"
      ]
    },
    {
      "cell_type": "code",
      "execution_count": null,
      "metadata": {
        "colab": {
          "base_uri": "https://localhost:8080/"
        },
        "id": "VNlHPC6ntgJE",
        "outputId": "3026e7fa-e41d-4d3f-977e-d1b117e40d39"
      },
      "outputs": [
        {
          "data": {
            "text/plain": [
              "array(['200', 'PYTHON', 'learn', '3.43'], dtype='<U32')"
            ]
          },
          "execution_count": 62,
          "metadata": {},
          "output_type": "execute_result"
        }
      ],
      "source": [
        "lst = [200 , \"PYTHON\" , \"learn\" , 3.43]\n",
        "np.array(lst)"
      ]
    },
    {
      "cell_type": "code",
      "execution_count": null,
      "metadata": {
        "colab": {
          "base_uri": "https://localhost:8080/"
        },
        "id": "9K6Y1c9XurLE",
        "outputId": "c0fe7894-d408-4211-8440-8640d17a5e43"
      },
      "outputs": [
        {
          "data": {
            "text/plain": [
              "array([[ 6,  7,  8],\n",
              "       [ 9, 10, 11]])"
            ]
          },
          "execution_count": 65,
          "metadata": {},
          "output_type": "execute_result"
        }
      ],
      "source": [
        "a = np.arange(6,12,1).reshape(2,3)\n",
        "a"
      ]
    },
    {
      "cell_type": "code",
      "execution_count": null,
      "metadata": {
        "colab": {
          "base_uri": "https://localhost:8080/"
        },
        "id": "UobYTRHpxG5W",
        "outputId": "db7d5b16-1dc7-4bba-de36-a78959b315ad"
      },
      "outputs": [
        {
          "data": {
            "text/plain": [
              "array([[ 6,  7,  8],\n",
              "       [ 9, 10, 11]])"
            ]
          },
          "execution_count": 66,
          "metadata": {},
          "output_type": "execute_result"
        }
      ],
      "source": [
        "b = np.arange(6,12,1).reshape(2,3)\n",
        "b"
      ]
    },
    {
      "cell_type": "code",
      "execution_count": null,
      "metadata": {
        "colab": {
          "base_uri": "https://localhost:8080/"
        },
        "id": "Hm5O5VlYxVcZ",
        "outputId": "19698c56-60ba-40e8-86a6-9074038360d1"
      },
      "outputs": [
        {
          "data": {
            "text/plain": [
              "array([[ 36,  49,  64],\n",
              "       [ 81, 100, 121]])"
            ]
          },
          "execution_count": 67,
          "metadata": {},
          "output_type": "execute_result"
        }
      ],
      "source": [
        "a*b   #broadcasting el vice mult"
      ]
    },
    {
      "cell_type": "code",
      "execution_count": null,
      "metadata": {
        "colab": {
          "base_uri": "https://localhost:8080/"
        },
        "id": "k-mS8lVGxiHS",
        "outputId": "1e6486eb-d8f6-4336-ac01-2b25d8aaf319"
      },
      "outputs": [
        {
          "data": {
            "text/plain": [
              "array([[0, 0, 0],\n",
              "       [0, 0, 0]])"
            ]
          },
          "execution_count": 68,
          "metadata": {},
          "output_type": "execute_result"
        }
      ],
      "source": [
        "a-b  #broadcasting element vice min"
      ]
    },
    {
      "cell_type": "code",
      "execution_count": null,
      "metadata": {
        "colab": {
          "base_uri": "https://localhost:8080/"
        },
        "id": "xftu4QwzxvuB",
        "outputId": "0e1406eb-2598-4059-ff1b-36d3bb722303"
      },
      "outputs": [
        {
          "data": {
            "text/plain": [
              "array([[12, 14, 16],\n",
              "       [18, 20, 22]])"
            ]
          },
          "execution_count": 69,
          "metadata": {},
          "output_type": "execute_result"
        }
      ],
      "source": [
        "a+b  #broadcasting el vice plus"
      ]
    },
    {
      "cell_type": "code",
      "execution_count": null,
      "metadata": {
        "colab": {
          "base_uri": "https://localhost:8080/"
        },
        "id": "rnadrRWrx5Nj",
        "outputId": "ae708b65-17a1-4ab4-8f48-a5cefd5d89c6"
      },
      "outputs": [
        {
          "data": {
            "text/plain": [
              "array([[1., 1., 1.],\n",
              "       [1., 1., 1.]])"
            ]
          },
          "execution_count": 70,
          "metadata": {},
          "output_type": "execute_result"
        }
      ],
      "source": [
        "a/b  #broadcasting el vice division"
      ]
    },
    {
      "cell_type": "code",
      "execution_count": null,
      "metadata": {
        "colab": {
          "base_uri": "https://localhost:8080/"
        },
        "id": "fLUd7ZHIyHlC",
        "outputId": "b63775ea-5689-4240-da9b-074c62727219"
      },
      "outputs": [
        {
          "data": {
            "text/plain": [
              "array([[False, False, False],\n",
              "       [False, False, False]])"
            ]
          },
          "execution_count": 71,
          "metadata": {},
          "output_type": "execute_result"
        }
      ],
      "source": [
        "a > b"
      ]
    },
    {
      "cell_type": "code",
      "execution_count": null,
      "metadata": {
        "colab": {
          "base_uri": "https://localhost:8080/"
        },
        "id": "mZ9UhLLSyQPY",
        "outputId": "05cb5905-4e79-4d62-f94f-ade8422b713e"
      },
      "outputs": [
        {
          "data": {
            "text/plain": [
              "array([[False, False, False],\n",
              "       [False, False, False]])"
            ]
          },
          "execution_count": 74,
          "metadata": {},
          "output_type": "execute_result"
        }
      ],
      "source": [
        "a < b"
      ]
    },
    {
      "cell_type": "code",
      "execution_count": null,
      "metadata": {
        "colab": {
          "base_uri": "https://localhost:8080/"
        },
        "id": "sz3RfMxFyXTd",
        "outputId": "76e757b4-7289-424a-960f-163139452d58"
      },
      "outputs": [
        {
          "data": {
            "text/plain": [
              "array([[False, False, False],\n",
              "       [False, False, False]])"
            ]
          },
          "execution_count": 75,
          "metadata": {},
          "output_type": "execute_result"
        }
      ],
      "source": [
        "a != b"
      ]
    },
    {
      "cell_type": "code",
      "execution_count": null,
      "metadata": {
        "colab": {
          "base_uri": "https://localhost:8080/"
        },
        "id": "McAhmy0gybt6",
        "outputId": "9b4206fc-a37b-4fa0-aac9-4755deec86b6"
      },
      "outputs": [
        {
          "data": {
            "text/plain": [
              "array([[ True,  True,  True],\n",
              "       [ True,  True,  True]])"
            ]
          },
          "execution_count": 76,
          "metadata": {},
          "output_type": "execute_result"
        }
      ],
      "source": [
        "a == b"
      ]
    },
    {
      "cell_type": "code",
      "execution_count": null,
      "metadata": {
        "colab": {
          "base_uri": "https://localhost:8080/"
        },
        "id": "cCUP8Z7jyhLx",
        "outputId": "6386a415-e9bf-44d0-db78-b06a0cf688d6"
      },
      "outputs": [
        {
          "data": {
            "text/plain": [
              "array([[ True,  True,  True],\n",
              "       [ True,  True,  True]])"
            ]
          },
          "execution_count": 77,
          "metadata": {},
          "output_type": "execute_result"
        }
      ],
      "source": [
        "a >= b"
      ]
    },
    {
      "cell_type": "code",
      "execution_count": null,
      "metadata": {
        "colab": {
          "base_uri": "https://localhost:8080/"
        },
        "id": "GDaAFLi0yktU",
        "outputId": "c44ffa30-8c6e-4043-84b9-a800e4974348"
      },
      "outputs": [
        {
          "data": {
            "text/plain": [
              "array([[ True,  True,  True],\n",
              "       [ True,  True,  True]])"
            ]
          },
          "execution_count": 78,
          "metadata": {},
          "output_type": "execute_result"
        }
      ],
      "source": [
        "a <= b"
      ]
    },
    {
      "cell_type": "code",
      "execution_count": null,
      "metadata": {
        "colab": {
          "base_uri": "https://localhost:8080/"
        },
        "id": "puZ9ASANywov",
        "outputId": "330bc34b-a25a-43f9-fd63-da4b72f70906"
      },
      "outputs": [
        {
          "data": {
            "text/plain": [
              "array([ 7, 10])"
            ]
          },
          "execution_count": 82,
          "metadata": {},
          "output_type": "execute_result"
        }
      ],
      "source": [
        "a[a%3 == 1]"
      ]
    },
    {
      "cell_type": "code",
      "execution_count": null,
      "metadata": {
        "colab": {
          "base_uri": "https://localhost:8080/"
        },
        "id": "R_L60ihcnWfr",
        "outputId": "9e17297d-a184-4cbb-944e-96a34e70e769"
      },
      "outputs": [
        {
          "data": {
            "text/plain": [
              "array([[-1.00638233,  0.53643604,  0.49345576],\n",
              "       [-0.52208508,  0.88602392,  0.56801648],\n",
              "       [ 0.55324706,  0.57188663,  0.33813982]])"
            ]
          },
          "execution_count": 7,
          "metadata": {},
          "output_type": "execute_result"
        }
      ],
      "source": [
        "import numpy as np\n",
        "values = np.random.randn(3,3)\n",
        "values"
      ]
    },
    {
      "cell_type": "code",
      "execution_count": null,
      "metadata": {
        "colab": {
          "base_uri": "https://localhost:8080/"
        },
        "id": "Aj4O1Yxxnyl6",
        "outputId": "be4b954d-c178-453e-f283-e9e415100c8d"
      },
      "outputs": [
        {
          "data": {
            "text/plain": [
              "array([['cat', 'dog', 'cat'],\n",
              "       ['cat', 'dog', 'dog'],\n",
              "       ['dog', 'cat', 'cat']], dtype='<U3')"
            ]
          },
          "execution_count": 9,
          "metadata": {},
          "output_type": "execute_result"
        }
      ],
      "source": [
        "data = np.array([['cat','dog','cat'],['cat','dog','dog'],['dog','cat','cat']])\n",
        "data"
      ]
    },
    {
      "cell_type": "code",
      "execution_count": null,
      "metadata": {
        "colab": {
          "base_uri": "https://localhost:8080/"
        },
        "id": "6piiunq8ptcQ",
        "outputId": "bd42771e-0925-4301-d912-b05c395812d6"
      },
      "outputs": [
        {
          "data": {
            "text/plain": [
              "array([-1.00638233,  0.49345576, -0.52208508,  0.57188663,  0.33813982])"
            ]
          },
          "execution_count": 16,
          "metadata": {},
          "output_type": "execute_result"
        }
      ],
      "source": [
        "values[data == 'cat']"
      ]
    },
    {
      "cell_type": "code",
      "execution_count": null,
      "metadata": {
        "colab": {
          "base_uri": "https://localhost:8080/"
        },
        "id": "qt88H5qzqYWg",
        "outputId": "1468f21d-d297-4765-8319-68e32bea451e"
      },
      "outputs": [
        {
          "data": {
            "text/plain": [
              "array([0.53643604, 0.88602392, 0.56801648, 0.55324706])"
            ]
          },
          "execution_count": 17,
          "metadata": {},
          "output_type": "execute_result"
        }
      ],
      "source": [
        "values[data == 'dog']"
      ]
    },
    {
      "cell_type": "code",
      "execution_count": null,
      "metadata": {
        "colab": {
          "base_uri": "https://localhost:8080/"
        },
        "id": "f3J9a6CpqaNs",
        "outputId": "a1a60fd8-7273-403e-f322-e6d3927d0198"
      },
      "outputs": [
        {
          "data": {
            "text/plain": [
              "array([], dtype=float64)"
            ]
          },
          "execution_count": 24,
          "metadata": {},
          "output_type": "execute_result"
        }
      ],
      "source": [
        "values[data == 'cat''dog']"
      ]
    },
    {
      "cell_type": "code",
      "execution_count": null,
      "metadata": {
        "colab": {
          "base_uri": "https://localhost:8080/"
        },
        "id": "ecQ1PrOWrWlq",
        "outputId": "4f32d449-1ff2-4a23-847a-351ce5ba19bc"
      },
      "outputs": [
        {
          "name": "stdout",
          "output_type": "stream",
          "text": [
            "[[-0.39511691 -0.37817271 -1.58976171  0.34055659  0.96626358 -0.45926358\n",
            "  -0.86775816 -1.6847488  -0.71019008 -0.99768772]\n",
            " [-1.67492638 -0.41955302  0.86393134  0.1253725  -0.47740687  1.17113711\n",
            "  -2.36598654  1.69093752  0.16025362 -0.99789939]\n",
            " [-0.64770011  1.08514127 -1.52860176  0.36976566 -0.12153131  1.47037793\n",
            "   0.88743561 -0.77066945  0.17906358 -0.91328547]\n",
            " [ 0.53515165  0.02392972 -0.46500901  1.74362345 -0.68319144  2.10422416\n",
            "   0.91767051  0.70287831 -1.57920626  0.997031  ]\n",
            " [ 0.6064264   0.77382181  1.14994156 -0.04459313 -1.40565781 -0.28093848\n",
            "   0.48798618  0.4638307  -0.19941441 -0.50269984]\n",
            " [ 1.18008685  1.22538678 -0.21766334  0.51386594  0.53917568  0.28875436\n",
            "  -1.87397346  0.40356489  0.64835943 -0.2860654 ]\n",
            " [ 0.2686963   0.54354001 -0.29890769 -0.46957989  0.9139975   2.03002884\n",
            "  -0.86563024 -2.10342293  0.39286323 -0.05993957]\n",
            " [-0.42981742 -0.47063315 -0.25909379 -1.17851827  0.1399868  -0.273989\n",
            "   0.65174783 -1.44501535 -1.54668905  0.17332785]\n",
            " [-0.48751273  0.37918601  1.03669685 -0.44050183 -0.30526421  0.2614828\n",
            "   0.2638911   1.34479203 -0.48565964 -0.94925934]\n",
            " [-2.47013403  0.72145341  1.34424007 -0.34491916 -1.49172578 -0.29838832\n",
            "   0.16151611 -0.3985409  -0.43794753  0.45199648]]\n",
            "[[-0.4  -0.38 -1.59  0.34  0.97 -0.46 -0.87 -1.68 -0.71 -1.  ]\n",
            " [-1.67 -0.42  0.86  0.13 -0.48  1.17 -2.37  1.69  0.16 -1.  ]\n",
            " [-0.65  1.09 -1.53  0.37 -0.12  1.47  0.89 -0.77  0.18 -0.91]\n",
            " [ 0.54  0.02 -0.47  1.74 -0.68  2.1   0.92  0.7  -1.58  1.  ]\n",
            " [ 0.61  0.77  1.15 -0.04 -1.41 -0.28  0.49  0.46 -0.2  -0.5 ]\n",
            " [ 1.18  1.23 -0.22  0.51  0.54  0.29 -1.87  0.4   0.65 -0.29]\n",
            " [ 0.27  0.54 -0.3  -0.47  0.91  2.03 -0.87 -2.1   0.39 -0.06]\n",
            " [-0.43 -0.47 -0.26 -1.18  0.14 -0.27  0.65 -1.45 -1.55  0.17]\n",
            " [-0.49  0.38  1.04 -0.44 -0.31  0.26  0.26  1.34 -0.49 -0.95]\n",
            " [-2.47  0.72  1.34 -0.34 -1.49 -0.3   0.16 -0.4  -0.44  0.45]]\n"
          ]
        }
      ],
      "source": [
        "arr = np.random.randn(10 , 10)\n",
        "print(arr)\n",
        "print(np.round(arr,2))"
      ]
    },
    {
      "cell_type": "code",
      "execution_count": null,
      "metadata": {
        "colab": {
          "base_uri": "https://localhost:8080/"
        },
        "id": "ifYXXdzYs8_Q",
        "outputId": "0ef3f42b-1905-4ee5-de1a-9e26fb831807"
      },
      "outputs": [
        {
          "name": "stdout",
          "output_type": "stream",
          "text": [
            "[[ 0.43580694 -0.10537659 -0.44422467  0.96683178  0.54071932  2.39099211\n",
            "  -0.48388538  0.91960704 -2.26235564  0.34228957]\n",
            " [ 1.36512223  1.26977622 -0.98669006 -2.55060836 -0.4758607   0.32234382\n",
            "  -1.22402342  1.11302844  2.16543255 -0.52066333]\n",
            " [-0.98262977 -0.97580613 -0.45824699  1.4193253  -1.38941129 -2.21344131\n",
            "   0.56757185  0.61089341 -0.51454076 -0.94805756]\n",
            " [ 1.84038826 -0.89970008 -1.11693103 -0.97390011 -0.64381088 -1.30798005\n",
            "  -0.92700912  1.57439126 -0.35114741 -0.2316251 ]\n",
            " [-1.41781067 -1.29653342  0.25011214 -1.18701644  0.5385614   2.00982853\n",
            "   0.27344621  0.26978945  0.38266076  1.38164931]\n",
            " [-0.61754026 -0.27424175  0.18693866  1.51216684  0.40157924  0.09134443\n",
            "   0.39796078 -1.84824239  0.45425107 -0.68730726]\n",
            " [-1.16731558 -0.82103557 -0.11207577  0.1867054  -0.01336859 -1.10155879\n",
            "   1.20741105  1.2398828   1.30373563  0.7286437 ]\n",
            " [ 0.17565277 -0.64003793  1.22402674 -1.13447482  1.08380296  0.50625208\n",
            "   0.55998694  0.42219646  0.71467832  1.48495162]\n",
            " [ 0.94810072  1.06083773 -0.38496594 -0.63006559 -0.08100152 -0.25966245\n",
            "  -0.39087144  1.01764105 -1.26427569  1.53751718]\n",
            " [ 1.31483289 -0.69574207 -0.46670765 -0.45838882 -0.59977998 -0.48263099\n",
            "  -0.54461768 -0.16502437 -0.02865696  1.3364134 ]]\n",
            "[[ 0.44 -0.11 -0.44  0.97  0.54  2.39 -0.48  0.92 -2.26  0.34]\n",
            " [ 1.37  1.27 -0.99 -2.55 -0.48  0.32 -1.22  1.11  2.17 -0.52]\n",
            " [-0.98 -0.98 -0.46  1.42 -1.39 -2.21  0.57  0.61 -0.51 -0.95]\n",
            " [ 1.84 -0.9  -1.12 -0.97 -0.64 -1.31 -0.93  1.57 -0.35 -0.23]\n",
            " [-1.42 -1.3   0.25 -1.19  0.54  2.01  0.27  0.27  0.38  1.38]\n",
            " [-0.62 -0.27  0.19  1.51  0.4   0.09  0.4  -1.85  0.45 -0.69]\n",
            " [-1.17 -0.82 -0.11  0.19 -0.01 -1.1   1.21  1.24  1.3   0.73]\n",
            " [ 0.18 -0.64  1.22 -1.13  1.08  0.51  0.56  0.42  0.71  1.48]\n",
            " [ 0.95  1.06 -0.38 -0.63 -0.08 -0.26 -0.39  1.02 -1.26  1.54]\n",
            " [ 1.31 -0.7  -0.47 -0.46 -0.6  -0.48 -0.54 -0.17 -0.03  1.34]]\n"
          ]
        }
      ],
      "source": [
        "arr = np.random.randn(10 , 10)\n",
        "print(arr)\n",
        "arr1 = np.round(arr,2)\n",
        "print(arr1)"
      ]
    },
    {
      "cell_type": "code",
      "execution_count": null,
      "metadata": {
        "colab": {
          "base_uri": "https://localhost:8080/"
        },
        "id": "A9sFu52auHZP",
        "outputId": "bc4e8fb6-41f8-493a-b44b-e2a1aea96069"
      },
      "outputs": [
        {
          "name": "stdout",
          "output_type": "stream",
          "text": [
            "[[ 1.37  1.27 -0.99 -2.55 -0.48  0.32 -1.22  1.11  2.17 -0.52]\n",
            " [ 1.84 -0.9  -1.12 -0.97 -0.64 -1.31 -0.93  1.57 -0.35 -0.23]\n",
            " [-0.62 -0.27  0.19  1.51  0.4   0.09  0.4  -1.85  0.45 -0.69]\n",
            " [ 0.18 -0.64  1.22 -1.13  1.08  0.51  0.56  0.42  0.71  1.48]\n",
            " [ 1.31 -0.7  -0.47 -0.46 -0.6  -0.48 -0.54 -0.17 -0.03  1.34]]\n"
          ]
        }
      ],
      "source": [
        "print(arr1[1:10:2])"
      ]
    },
    {
      "cell_type": "code",
      "execution_count": null,
      "metadata": {
        "colab": {
          "base_uri": "https://localhost:8080/"
        },
        "id": "sTRIhfbtu46c",
        "outputId": "f9a09b42-2494-4da7-d751-a61b4294d287"
      },
      "outputs": [
        {
          "name": "stdout",
          "output_type": "stream",
          "text": [
            "[[ 1.37  1.27 -0.99 -2.55 -0.48  0.32 -1.22  1.11  2.17 -0.52]\n",
            " [ 1.84 -0.9  -1.12 -0.97 -0.64 -1.31 -0.93  1.57 -0.35 -0.23]\n",
            " [-0.62 -0.27  0.19  1.51  0.4   0.09  0.4  -1.85  0.45 -0.69]\n",
            " [ 0.18 -0.64  1.22 -1.13  1.08  0.51  0.56  0.42  0.71  1.48]\n",
            " [ 1.31 -0.7  -0.47 -0.46 -0.6  -0.48 -0.54 -0.17 -0.03  1.34]]\n"
          ]
        }
      ],
      "source": [
        "print(arr1[1:10:2,::])"
      ]
    },
    {
      "cell_type": "code",
      "execution_count": null,
      "metadata": {
        "colab": {
          "base_uri": "https://localhost:8080/"
        },
        "id": "D4VucBctvIDI",
        "outputId": "cdbf725d-a55a-488f-ef07-96270e067acc"
      },
      "outputs": [
        {
          "name": "stdout",
          "output_type": "stream",
          "text": [
            "[[ 0.44 -0.11 -0.44  0.97]\n",
            " [ 1.37  1.27 -0.99 -2.55]\n",
            " [-0.98 -0.98 -0.46  1.42]\n",
            " [ 1.84 -0.9  -1.12 -0.97]\n",
            " [-1.42 -1.3   0.25 -1.19]\n",
            " [-0.62 -0.27  0.19  1.51]\n",
            " [-1.17 -0.82 -0.11  0.19]\n",
            " [ 0.18 -0.64  1.22 -1.13]\n",
            " [ 0.95  1.06 -0.38 -0.63]\n",
            " [ 1.31 -0.7  -0.47 -0.46]]\n"
          ]
        }
      ],
      "source": [
        "print(arr1[::,0:4]) #all rows & 1st four columns print"
      ]
    },
    {
      "cell_type": "code",
      "execution_count": null,
      "metadata": {
        "colab": {
          "base_uri": "https://localhost:8080/"
        },
        "id": "6jKJfUkPwCIU",
        "outputId": "373094fe-73c3-43ad-983d-79b82e3255d3"
      },
      "outputs": [
        {
          "data": {
            "text/plain": [
              "array([ 2,  4,  6,  8, 10])"
            ]
          },
          "execution_count": 34,
          "metadata": {},
          "output_type": "execute_result"
        }
      ],
      "source": [
        "x = np.array([0 , 1 , 2 , 3 , 4])\n",
        "y = np.array([2 , 4 , 6 , 8 , 10])\n",
        "np.maximum(x , y)"
      ]
    },
    {
      "cell_type": "code",
      "execution_count": null,
      "metadata": {
        "colab": {
          "base_uri": "https://localhost:8080/"
        },
        "id": "6F45beyF7n-_",
        "outputId": "3443cbff-3e39-46a7-f576-1dd0d10b47e0"
      },
      "outputs": [
        {
          "data": {
            "text/plain": [
              "array([10, 20, 30, 40, 60])"
            ]
          },
          "execution_count": 2,
          "metadata": {},
          "output_type": "execute_result"
        }
      ],
      "source": [
        "import numpy as np\n",
        "var = np.array([10,20,30,40,50])\n",
        "var1 = np.array([5,10,20,40,60])\n",
        "np.maximum(var,var1)"
      ]
    },
    {
      "cell_type": "code",
      "execution_count": null,
      "metadata": {
        "colab": {
          "base_uri": "https://localhost:8080/"
        },
        "id": "tOjtZvZu7iHM",
        "outputId": "f988d300-e3ff-4d18-e5b9-e19a919733eb"
      },
      "outputs": [
        {
          "name": "stdout",
          "output_type": "stream",
          "text": [
            "[[0 1 2]\n",
            " [3 4 5]\n",
            " [6 7 8]]\n",
            "[[0 1 2]\n",
            " [3 4 5]\n",
            " [6 7 8]]\n"
          ]
        },
        {
          "data": {
            "text/plain": [
              "array([[ 0,  1,  4],\n",
              "       [ 9, 16, 25],\n",
              "       [36, 49, 64]])"
            ]
          },
          "execution_count": 7,
          "metadata": {},
          "output_type": "execute_result"
        }
      ],
      "source": [
        "import numpy as np\n",
        "x = np.arange(9).reshape(3,3)\n",
        "print(x)\n",
        "y = np.arange(6).reshape(3,2)\n",
        "print(y)\n",
        "# x * y  yahan error mily ga q k array shape or range differ ha"
      ]
    },
    {
      "cell_type": "code",
      "execution_count": null,
      "metadata": {
        "colab": {
          "base_uri": "https://localhost:8080/"
        },
        "id": "9N_qL0XMzPOC",
        "outputId": "171d9501-0c56-4366-abe1-0a6b1ec4af55"
      },
      "outputs": [
        {
          "output_type": "stream",
          "name": "stdout",
          "text": [
            "[[0 1 2]\n",
            " [3 4 5]\n",
            " [6 7 8]]\n",
            "[[0 1 2]\n",
            " [3 4 5]\n",
            " [6 7 8]]\n"
          ]
        },
        {
          "output_type": "execute_result",
          "data": {
            "text/plain": [
              "array([[ 0,  1,  4],\n",
              "       [ 9, 16, 25],\n",
              "       [36, 49, 64]])"
            ]
          },
          "metadata": {},
          "execution_count": 5
        }
      ],
      "source": [
        "import numpy as np\n",
        "x = np.arange(9).reshape(3,3)\n",
        "print(x)\n",
        "y = np.arange(9).reshape(3,3)\n",
        "print(y)\n",
        "x*y"
      ]
    },
    {
      "cell_type": "markdown",
      "source": [
        "AGAIN PRACTICE....\n"
      ],
      "metadata": {
        "id": "velQ3wP5nH_B"
      }
    },
    {
      "cell_type": "code",
      "source": [
        "a = np.arange(24) #1D\n",
        "a"
      ],
      "metadata": {
        "colab": {
          "base_uri": "https://localhost:8080/"
        },
        "id": "XLkNTK7bnMcl",
        "outputId": "dabef3a2-7d25-4021-9be2-0b94e5e80ba1"
      },
      "execution_count": null,
      "outputs": [
        {
          "output_type": "execute_result",
          "data": {
            "text/plain": [
              "array([ 0,  1,  2,  3,  4,  5,  6,  7,  8,  9, 10, 11, 12, 13, 14, 15, 16,\n",
              "       17, 18, 19, 20, 21, 22, 23])"
            ]
          },
          "metadata": {},
          "execution_count": 43
        }
      ]
    },
    {
      "cell_type": "code",
      "source": [
        "a.size"
      ],
      "metadata": {
        "colab": {
          "base_uri": "https://localhost:8080/"
        },
        "id": "X9ehfc63naGR",
        "outputId": "b9578f80-5e1d-4bfc-ffa5-8abe90627d80"
      },
      "execution_count": null,
      "outputs": [
        {
          "output_type": "execute_result",
          "data": {
            "text/plain": [
              "24"
            ]
          },
          "metadata": {},
          "execution_count": 44
        }
      ]
    },
    {
      "cell_type": "code",
      "source": [
        "a.shape"
      ],
      "metadata": {
        "colab": {
          "base_uri": "https://localhost:8080/"
        },
        "id": "mgHw0tmMndWj",
        "outputId": "07be6a0b-a3ea-454a-f157-19d29f14f425"
      },
      "execution_count": null,
      "outputs": [
        {
          "output_type": "execute_result",
          "data": {
            "text/plain": [
              "(24,)"
            ]
          },
          "metadata": {},
          "execution_count": 45
        }
      ]
    },
    {
      "cell_type": "code",
      "source": [
        "b = np.array([1,2,3,4,5]) #1D\n",
        "b"
      ],
      "metadata": {
        "colab": {
          "base_uri": "https://localhost:8080/"
        },
        "id": "FF1NvXMlnhZm",
        "outputId": "63d60284-c9b1-4278-c4f7-49b8ea9e3117"
      },
      "execution_count": null,
      "outputs": [
        {
          "output_type": "execute_result",
          "data": {
            "text/plain": [
              "array([1, 2, 3, 4, 5])"
            ]
          },
          "metadata": {},
          "execution_count": 47
        }
      ]
    },
    {
      "cell_type": "code",
      "source": [
        "b.size"
      ],
      "metadata": {
        "colab": {
          "base_uri": "https://localhost:8080/"
        },
        "id": "80axdLSTn6qE",
        "outputId": "8c842af9-a9ce-4b4f-89b4-4d118935b8e6"
      },
      "execution_count": null,
      "outputs": [
        {
          "output_type": "execute_result",
          "data": {
            "text/plain": [
              "5"
            ]
          },
          "metadata": {},
          "execution_count": 48
        }
      ]
    },
    {
      "cell_type": "code",
      "source": [
        "type(b)"
      ],
      "metadata": {
        "colab": {
          "base_uri": "https://localhost:8080/"
        },
        "id": "aS_ul3ICoAu4",
        "outputId": "ecfdd620-1d67-44aa-c036-8154cb664c34"
      },
      "execution_count": null,
      "outputs": [
        {
          "output_type": "execute_result",
          "data": {
            "text/plain": [
              "numpy.ndarray"
            ]
          },
          "metadata": {},
          "execution_count": 49
        }
      ]
    },
    {
      "cell_type": "code",
      "source": [
        "b.shape"
      ],
      "metadata": {
        "colab": {
          "base_uri": "https://localhost:8080/"
        },
        "id": "nqnCldUsoDyn",
        "outputId": "88bbc299-b43f-4d44-c363-ff041ce82f93"
      },
      "execution_count": null,
      "outputs": [
        {
          "output_type": "execute_result",
          "data": {
            "text/plain": [
              "(5,)"
            ]
          },
          "metadata": {},
          "execution_count": 50
        }
      ]
    },
    {
      "cell_type": "code",
      "source": [
        "c = np.array([['a','b','c','d'],['e','f','g','h']]) #2D\n",
        "c"
      ],
      "metadata": {
        "colab": {
          "base_uri": "https://localhost:8080/"
        },
        "id": "L3zWl9PfoJiM",
        "outputId": "f149a563-ca35-4866-dfd7-3d871596782e"
      },
      "execution_count": null,
      "outputs": [
        {
          "output_type": "execute_result",
          "data": {
            "text/plain": [
              "array([['a', 'b', 'c', 'd'],\n",
              "       ['e', 'f', 'g', 'h']], dtype='<U1')"
            ]
          },
          "metadata": {},
          "execution_count": 52
        }
      ]
    },
    {
      "cell_type": "code",
      "source": [
        "c.size"
      ],
      "metadata": {
        "colab": {
          "base_uri": "https://localhost:8080/"
        },
        "id": "V0liMfDwompf",
        "outputId": "94471095-c29c-4e5f-a852-c25aaadea5aa"
      },
      "execution_count": null,
      "outputs": [
        {
          "output_type": "execute_result",
          "data": {
            "text/plain": [
              "8"
            ]
          },
          "metadata": {},
          "execution_count": 53
        }
      ]
    },
    {
      "cell_type": "code",
      "source": [
        "c.shape"
      ],
      "metadata": {
        "colab": {
          "base_uri": "https://localhost:8080/"
        },
        "id": "_althSu7oo_H",
        "outputId": "b375c13d-2d1d-4945-f692-ec971d44e6b6"
      },
      "execution_count": null,
      "outputs": [
        {
          "output_type": "execute_result",
          "data": {
            "text/plain": [
              "(2, 4)"
            ]
          },
          "metadata": {},
          "execution_count": 55
        }
      ]
    },
    {
      "cell_type": "code",
      "source": [
        "d = np.array([[2.2,3.3,4.4],[5.5,6.6,7.7]])\n",
        "d"
      ],
      "metadata": {
        "colab": {
          "base_uri": "https://localhost:8080/"
        },
        "id": "hR3kZeiOoxy4",
        "outputId": "fc39b855-035b-49ae-866f-385889e6fd62"
      },
      "execution_count": null,
      "outputs": [
        {
          "output_type": "execute_result",
          "data": {
            "text/plain": [
              "array([[2.2, 3.3, 4.4],\n",
              "       [5.5, 6.6, 7.7]])"
            ]
          },
          "metadata": {},
          "execution_count": 56
        }
      ]
    },
    {
      "cell_type": "code",
      "source": [
        "d.size"
      ],
      "metadata": {
        "colab": {
          "base_uri": "https://localhost:8080/"
        },
        "id": "opDjTVxytPDW",
        "outputId": "cc1bb079-3853-4410-8338-20f173128cbd"
      },
      "execution_count": null,
      "outputs": [
        {
          "output_type": "execute_result",
          "data": {
            "text/plain": [
              "6"
            ]
          },
          "metadata": {},
          "execution_count": 76
        }
      ]
    },
    {
      "cell_type": "code",
      "source": [
        "e = np.array([{\"t\":2,\"f\":4,\"s\":6}])\n",
        "print(e)"
      ],
      "metadata": {
        "colab": {
          "base_uri": "https://localhost:8080/"
        },
        "id": "U-5gkLPBouZN",
        "outputId": "b50c9e2f-8848-431a-a4a3-bb4b0ddaf374"
      },
      "execution_count": null,
      "outputs": [
        {
          "output_type": "stream",
          "name": "stdout",
          "text": [
            "[{'t': 2, 'f': 4, 's': 6}]\n"
          ]
        }
      ]
    },
    {
      "cell_type": "code",
      "source": [
        "e.size"
      ],
      "metadata": {
        "colab": {
          "base_uri": "https://localhost:8080/"
        },
        "id": "1DUSX2XEpryb",
        "outputId": "194953b1-c3fe-4c13-de8a-83443d6a5814"
      },
      "execution_count": null,
      "outputs": [
        {
          "output_type": "execute_result",
          "data": {
            "text/plain": [
              "1"
            ]
          },
          "metadata": {},
          "execution_count": 60
        }
      ]
    },
    {
      "cell_type": "code",
      "source": [
        "e.shape"
      ],
      "metadata": {
        "colab": {
          "base_uri": "https://localhost:8080/"
        },
        "id": "2YV3Bmipp16W",
        "outputId": "c330a3fb-6594-436f-8062-952e639d75ba"
      },
      "execution_count": null,
      "outputs": [
        {
          "output_type": "execute_result",
          "data": {
            "text/plain": [
              "(1,)"
            ]
          },
          "metadata": {},
          "execution_count": 61
        }
      ]
    },
    {
      "cell_type": "code",
      "source": [
        "f = np.array({\n",
        "    \"fish\":1,\n",
        "    \"banana\":2,\n",
        "    \"egg\":3,\n",
        "    \"arm\":\"strog\"\n",
        "})\n",
        "print(f)"
      ],
      "metadata": {
        "colab": {
          "base_uri": "https://localhost:8080/"
        },
        "id": "ImlzWqjop7V8",
        "outputId": "b9fe9044-b0ec-42f3-f7af-e965fc0d50f3"
      },
      "execution_count": null,
      "outputs": [
        {
          "output_type": "stream",
          "name": "stdout",
          "text": [
            "{'fish': 1, 'banana': 2, 'egg': 3, 'arm': 'strog'}\n"
          ]
        }
      ]
    },
    {
      "cell_type": "code",
      "source": [
        "type(f)"
      ],
      "metadata": {
        "colab": {
          "base_uri": "https://localhost:8080/"
        },
        "id": "AP9rEFwIqZMZ",
        "outputId": "cefd686b-12c8-43ff-db4d-8b98d1d43953"
      },
      "execution_count": null,
      "outputs": [
        {
          "output_type": "execute_result",
          "data": {
            "text/plain": [
              "numpy.ndarray"
            ]
          },
          "metadata": {},
          "execution_count": 71
        }
      ]
    },
    {
      "cell_type": "code",
      "source": [
        "f.size"
      ],
      "metadata": {
        "colab": {
          "base_uri": "https://localhost:8080/"
        },
        "id": "G7tLWgdlqdK-",
        "outputId": "4adc55b5-3421-436f-fe20-f0738c5d7e98"
      },
      "execution_count": null,
      "outputs": [
        {
          "output_type": "execute_result",
          "data": {
            "text/plain": [
              "1"
            ]
          },
          "metadata": {},
          "execution_count": 65
        }
      ]
    },
    {
      "cell_type": "code",
      "source": [
        "f.shape"
      ],
      "metadata": {
        "colab": {
          "base_uri": "https://localhost:8080/"
        },
        "id": "Hq2fn12DqnIp",
        "outputId": "2d26c22e-6a87-480b-e764-dc21aca9ab12"
      },
      "execution_count": null,
      "outputs": [
        {
          "output_type": "execute_result",
          "data": {
            "text/plain": [
              "()"
            ]
          },
          "metadata": {},
          "execution_count": 66
        }
      ]
    },
    {
      "cell_type": "code",
      "source": [
        "g = np.array({\n",
        "    \"fruits\":[\"apple\",\"banane\",\"orange\",\"cherry\"],\n",
        "    \"sea_foods\":[\"fish\",\"categA\",\"categB\",\"cateC\"],\n",
        "    \"sweet_dish\":[\"halwa\",\"jalebi\",\"rabdi\",\"cake\"]\n",
        "})\n",
        "print(g)"
      ],
      "metadata": {
        "colab": {
          "base_uri": "https://localhost:8080/"
        },
        "id": "Xgb1TVIRq4f1",
        "outputId": "6de51940-b2fa-4de4-d880-cc7ee9d304cd"
      },
      "execution_count": null,
      "outputs": [
        {
          "output_type": "stream",
          "name": "stdout",
          "text": [
            "{'fruits': ['apple', 'banane', 'orange', 'cherry'], 'sea_foods': ['fish', 'categA', 'categB', 'cateC'], 'sweet_dish': ['halwa', 'jalebi', 'rabdi', 'cake']}\n"
          ]
        }
      ]
    },
    {
      "cell_type": "code",
      "source": [
        "g.size"
      ],
      "metadata": {
        "colab": {
          "base_uri": "https://localhost:8080/"
        },
        "id": "wPk8G5mvs7cp",
        "outputId": "c10d69fa-257d-4c0a-9009-a62e034ee159"
      },
      "execution_count": null,
      "outputs": [
        {
          "output_type": "execute_result",
          "data": {
            "text/plain": [
              "1"
            ]
          },
          "metadata": {},
          "execution_count": 74
        }
      ]
    },
    {
      "cell_type": "code",
      "source": [
        "g.shape"
      ],
      "metadata": {
        "colab": {
          "base_uri": "https://localhost:8080/"
        },
        "id": "ob_weVmjtzy3",
        "outputId": "f64d7610-e676-43b0-9261-d43b44c11d0e"
      },
      "execution_count": null,
      "outputs": [
        {
          "output_type": "execute_result",
          "data": {
            "text/plain": [
              "(1,)"
            ]
          },
          "metadata": {},
          "execution_count": 78
        }
      ]
    },
    {
      "cell_type": "code",
      "source": [
        "g = np.array([{\n",
        "    \"fruits\":(\"apple\",\"banane\",\"orange\",\"cherry\"),\n",
        "    \"sea_foods\":(\"fish\",\"categA\",\"categB\",\"cateC\"),\n",
        "    \"sweet_dish\":(\"halwa\",\"jalebi\",\"rabdi\",\"cake\")\n",
        "}])\n",
        "print(g)"
      ],
      "metadata": {
        "colab": {
          "base_uri": "https://localhost:8080/"
        },
        "id": "BWlWdeDvskfM",
        "outputId": "c6448998-4e25-46e8-ec40-da2974a1d1ff"
      },
      "execution_count": null,
      "outputs": [
        {
          "output_type": "stream",
          "name": "stdout",
          "text": [
            "[{'fruits': ('apple', 'banane', 'orange', 'cherry'), 'sea_foods': ('fish', 'categA', 'categB', 'cateC'), 'sweet_dish': ('halwa', 'jalebi', 'rabdi', 'cake')}]\n"
          ]
        }
      ]
    },
    {
      "cell_type": "code",
      "source": [
        "g.size"
      ],
      "metadata": {
        "colab": {
          "base_uri": "https://localhost:8080/"
        },
        "id": "fs1-4TgatBeU",
        "outputId": "2cedde70-67cb-4fb6-cfb0-181dcaadee01"
      },
      "execution_count": null,
      "outputs": [
        {
          "output_type": "execute_result",
          "data": {
            "text/plain": [
              "1"
            ]
          },
          "metadata": {},
          "execution_count": 84
        }
      ]
    },
    {
      "cell_type": "code",
      "source": [
        "g.shape"
      ],
      "metadata": {
        "colab": {
          "base_uri": "https://localhost:8080/"
        },
        "id": "uDB-vF-ttsCb",
        "outputId": "313403f2-4dd1-451b-d3aa-003c58edf098"
      },
      "execution_count": null,
      "outputs": [
        {
          "output_type": "execute_result",
          "data": {
            "text/plain": [
              "(1,)"
            ]
          },
          "metadata": {},
          "execution_count": 85
        }
      ]
    },
    {
      "cell_type": "code",
      "source": [
        "h = np.array({\"a\":\"apple\",\"b\":\"banana\",\"c\":\"cake\"})\n",
        "print(h)"
      ],
      "metadata": {
        "colab": {
          "base_uri": "https://localhost:8080/"
        },
        "id": "Qo-MKLpYvJKt",
        "outputId": "1fe8520c-ad01-49fd-8fcc-b0a4cd1649fa"
      },
      "execution_count": null,
      "outputs": [
        {
          "output_type": "stream",
          "name": "stdout",
          "text": [
            "{'a': 'apple', 'b': 'banana', 'c': 'cake'}\n"
          ]
        }
      ]
    },
    {
      "cell_type": "code",
      "source": [
        "h.size"
      ],
      "metadata": {
        "colab": {
          "base_uri": "https://localhost:8080/"
        },
        "id": "kLZjsvkiwPB_",
        "outputId": "2eb88c7e-845a-4cf1-f85b-e11a544baab4"
      },
      "execution_count": null,
      "outputs": [
        {
          "output_type": "execute_result",
          "data": {
            "text/plain": [
              "1"
            ]
          },
          "metadata": {},
          "execution_count": 99
        }
      ]
    },
    {
      "cell_type": "code",
      "source": [
        "h.shape"
      ],
      "metadata": {
        "colab": {
          "base_uri": "https://localhost:8080/"
        },
        "id": "oVZISAeuwZCQ",
        "outputId": "c18c5fd0-4d3f-4114-d20b-747c12afa969"
      },
      "execution_count": null,
      "outputs": [
        {
          "output_type": "execute_result",
          "data": {
            "text/plain": [
              "()"
            ]
          },
          "metadata": {},
          "execution_count": 101
        }
      ]
    },
    {
      "cell_type": "code",
      "source": [
        "i = np.array([\"a\",\"b\",\"c\"])\n",
        "print(i)"
      ],
      "metadata": {
        "colab": {
          "base_uri": "https://localhost:8080/"
        },
        "id": "Z6D4NrOrwgAL",
        "outputId": "001ba3a8-dc8d-420c-e347-ac43abfb1b86"
      },
      "execution_count": null,
      "outputs": [
        {
          "output_type": "stream",
          "name": "stdout",
          "text": [
            "['a' 'b' 'c']\n"
          ]
        }
      ]
    },
    {
      "cell_type": "code",
      "source": [
        "i.size"
      ],
      "metadata": {
        "colab": {
          "base_uri": "https://localhost:8080/"
        },
        "id": "GjQOJ6XFwrUR",
        "outputId": "cf7f71c7-9aad-4f0b-d0ed-27ada687cab9"
      },
      "execution_count": null,
      "outputs": [
        {
          "output_type": "execute_result",
          "data": {
            "text/plain": [
              "3"
            ]
          },
          "metadata": {},
          "execution_count": 103
        }
      ]
    },
    {
      "cell_type": "code",
      "source": [
        "i.shape"
      ],
      "metadata": {
        "colab": {
          "base_uri": "https://localhost:8080/"
        },
        "id": "9uas18cbw2j9",
        "outputId": "848e4fc7-dd25-4e39-b10e-8022061cca41"
      },
      "execution_count": null,
      "outputs": [
        {
          "output_type": "execute_result",
          "data": {
            "text/plain": [
              "(3,)"
            ]
          },
          "metadata": {},
          "execution_count": 104
        }
      ]
    },
    {
      "cell_type": "code",
      "source": [
        "a = np.arange(24) #1D\n",
        "a"
      ],
      "metadata": {
        "colab": {
          "base_uri": "https://localhost:8080/"
        },
        "id": "YW6_wKGAyhpG",
        "outputId": "c346db86-7d44-415c-f82b-44b1d0c2c90f"
      },
      "execution_count": null,
      "outputs": [
        {
          "output_type": "execute_result",
          "data": {
            "text/plain": [
              "array([ 0,  1,  2,  3,  4,  5,  6,  7,  8,  9, 10, 11, 12, 13, 14, 15, 16,\n",
              "       17, 18, 19, 20, 21, 22, 23])"
            ]
          },
          "metadata": {},
          "execution_count": 109
        }
      ]
    },
    {
      "cell_type": "code",
      "source": [
        "a.reshape(3,8) #1D convert TO 2D"
      ],
      "metadata": {
        "colab": {
          "base_uri": "https://localhost:8080/"
        },
        "id": "_WmCsk3qxLyR",
        "outputId": "a7f99159-3921-4996-f011-4a307fa218a2"
      },
      "execution_count": null,
      "outputs": [
        {
          "output_type": "execute_result",
          "data": {
            "text/plain": [
              "array([[ 0,  1,  2,  3,  4,  5,  6,  7],\n",
              "       [ 8,  9, 10, 11, 12, 13, 14, 15],\n",
              "       [16, 17, 18, 19, 20, 21, 22, 23]])"
            ]
          },
          "metadata": {},
          "execution_count": 106
        }
      ]
    },
    {
      "cell_type": "code",
      "source": [
        "a.reshape(2,2,6)  #1D convert TO 3D"
      ],
      "metadata": {
        "colab": {
          "base_uri": "https://localhost:8080/"
        },
        "id": "z0t7T9YXxar0",
        "outputId": "a2cbe570-eada-44ca-fbf2-65eebf08a221"
      },
      "execution_count": null,
      "outputs": [
        {
          "output_type": "execute_result",
          "data": {
            "text/plain": [
              "array([[[ 0,  1,  2,  3,  4,  5],\n",
              "        [ 6,  7,  8,  9, 10, 11]],\n",
              "\n",
              "       [[12, 13, 14, 15, 16, 17],\n",
              "        [18, 19, 20, 21, 22, 23]]])"
            ]
          },
          "metadata": {},
          "execution_count": 108
        }
      ]
    },
    {
      "cell_type": "code",
      "source": [
        "a.reshape(6,2,2) #3D\n"
      ],
      "metadata": {
        "colab": {
          "base_uri": "https://localhost:8080/"
        },
        "id": "OdVHnU4fypr7",
        "outputId": "9d8c16bd-40aa-4701-a2de-4bad0c11d4bf"
      },
      "execution_count": null,
      "outputs": [
        {
          "output_type": "execute_result",
          "data": {
            "text/plain": [
              "array([[[ 0,  1],\n",
              "        [ 2,  3]],\n",
              "\n",
              "       [[ 4,  5],\n",
              "        [ 6,  7]],\n",
              "\n",
              "       [[ 8,  9],\n",
              "        [10, 11]],\n",
              "\n",
              "       [[12, 13],\n",
              "        [14, 15]],\n",
              "\n",
              "       [[16, 17],\n",
              "        [18, 19]],\n",
              "\n",
              "       [[20, 21],\n",
              "        [22, 23]]])"
            ]
          },
          "metadata": {},
          "execution_count": 110
        }
      ]
    },
    {
      "cell_type": "code",
      "source": [
        "arr = np.arange(3**2).reshape(3,3)\n",
        "arr"
      ],
      "metadata": {
        "colab": {
          "base_uri": "https://localhost:8080/"
        },
        "id": "nGhiW9umzXyY",
        "outputId": "bf10b799-425f-49ef-a940-ec02ce7e2807"
      },
      "execution_count": null,
      "outputs": [
        {
          "output_type": "execute_result",
          "data": {
            "text/plain": [
              "array([[0, 1, 2],\n",
              "       [3, 4, 5],\n",
              "       [6, 7, 8]])"
            ]
          },
          "metadata": {},
          "execution_count": 111
        }
      ]
    },
    {
      "cell_type": "code",
      "source": [
        "ay = np.arange(3**2).reshape(3,3)\n",
        "ay"
      ],
      "metadata": {
        "colab": {
          "base_uri": "https://localhost:8080/"
        },
        "id": "6iPJD1d3z_yx",
        "outputId": "af016d32-134a-4c6e-bae3-36dd88bbf27a"
      },
      "execution_count": null,
      "outputs": [
        {
          "output_type": "execute_result",
          "data": {
            "text/plain": [
              "array([[0, 1, 2],\n",
              "       [3, 4, 5],\n",
              "       [6, 7, 8]])"
            ]
          },
          "metadata": {},
          "execution_count": 116
        }
      ]
    },
    {
      "cell_type": "code",
      "source": [
        "arr+ay\n"
      ],
      "metadata": {
        "colab": {
          "base_uri": "https://localhost:8080/"
        },
        "id": "lgh4Vb7b0VTD",
        "outputId": "b02032a1-734c-43c9-c39e-5a4f9722d1f9"
      },
      "execution_count": null,
      "outputs": [
        {
          "output_type": "execute_result",
          "data": {
            "text/plain": [
              "array([[ 0,  2,  4],\n",
              "       [ 6,  8, 10],\n",
              "       [12, 14, 16]])"
            ]
          },
          "metadata": {},
          "execution_count": 117
        }
      ]
    },
    {
      "cell_type": "code",
      "source": [
        "arr-ay"
      ],
      "metadata": {
        "colab": {
          "base_uri": "https://localhost:8080/"
        },
        "id": "6jV5REtE0nSn",
        "outputId": "bfac2643-0564-4c30-a22a-4e1c45d77650"
      },
      "execution_count": null,
      "outputs": [
        {
          "output_type": "execute_result",
          "data": {
            "text/plain": [
              "array([[0, 0, 0],\n",
              "       [0, 0, 0],\n",
              "       [0, 0, 0]])"
            ]
          },
          "metadata": {},
          "execution_count": 118
        }
      ]
    },
    {
      "cell_type": "code",
      "source": [
        "arr/ay"
      ],
      "metadata": {
        "colab": {
          "base_uri": "https://localhost:8080/"
        },
        "id": "K8PjNuCR0qyz",
        "outputId": "2131df18-e14d-4366-99bf-69a70d69444e"
      },
      "execution_count": null,
      "outputs": [
        {
          "output_type": "stream",
          "name": "stderr",
          "text": [
            "<ipython-input-119-95069d8e3bb4>:1: RuntimeWarning: invalid value encountered in divide\n",
            "  arr/ay\n"
          ]
        },
        {
          "output_type": "execute_result",
          "data": {
            "text/plain": [
              "array([[nan,  1.,  1.],\n",
              "       [ 1.,  1.,  1.],\n",
              "       [ 1.,  1.,  1.]])"
            ]
          },
          "metadata": {},
          "execution_count": 119
        }
      ]
    },
    {
      "cell_type": "code",
      "source": [
        "ary=arr%ay\n",
        "ary\n",
        "arr=ary+2\n",
        "arr**0"
      ],
      "metadata": {
        "colab": {
          "base_uri": "https://localhost:8080/"
        },
        "id": "Wk8RxHVf08SX",
        "outputId": "0fc08c18-60d0-4806-e484-b79800adc80f"
      },
      "execution_count": null,
      "outputs": [
        {
          "output_type": "stream",
          "name": "stderr",
          "text": [
            "<ipython-input-129-7137f0b69067>:1: RuntimeWarning: divide by zero encountered in remainder\n",
            "  ary=arr%ay\n"
          ]
        },
        {
          "output_type": "execute_result",
          "data": {
            "text/plain": [
              "array([[1, 1, 1],\n",
              "       [1, 1, 1],\n",
              "       [1, 1, 1]])"
            ]
          },
          "metadata": {},
          "execution_count": 129
        }
      ]
    },
    {
      "cell_type": "code",
      "source": [
        "arr = np.array([{\"arr**0\":\"unity\"}])\n",
        "arr"
      ],
      "metadata": {
        "colab": {
          "base_uri": "https://localhost:8080/"
        },
        "id": "XE0EFYOW4Drg",
        "outputId": "b0a87aa5-4186-4f33-c0c3-52b5da27c2b2"
      },
      "execution_count": null,
      "outputs": [
        {
          "output_type": "execute_result",
          "data": {
            "text/plain": [
              "array([{'arr**0': 'unity'}], dtype=object)"
            ]
          },
          "metadata": {},
          "execution_count": 137
        }
      ]
    },
    {
      "cell_type": "code",
      "source": [
        "arr.shape"
      ],
      "metadata": {
        "colab": {
          "base_uri": "https://localhost:8080/"
        },
        "id": "IZv4i-Vx5DCe",
        "outputId": "ce9def36-cc76-4fb4-86af-8eefcfbb0dfd"
      },
      "execution_count": null,
      "outputs": [
        {
          "output_type": "execute_result",
          "data": {
            "text/plain": [
              "(1,)"
            ]
          },
          "metadata": {},
          "execution_count": 138
        }
      ]
    },
    {
      "cell_type": "code",
      "source": [
        "arr.size"
      ],
      "metadata": {
        "colab": {
          "base_uri": "https://localhost:8080/"
        },
        "id": "x6yGDfHn5IGu",
        "outputId": "9224f70a-7dc8-461a-fbf9-6e77b136ccd2"
      },
      "execution_count": null,
      "outputs": [
        {
          "output_type": "execute_result",
          "data": {
            "text/plain": [
              "1"
            ]
          },
          "metadata": {},
          "execution_count": 139
        }
      ]
    }
  ],
  "metadata": {
    "colab": {
      "provenance": [],
      "authorship_tag": "ABX9TyPEweBATJALCJ9FdTAP1ONy",
      "include_colab_link": true
    },
    "kernelspec": {
      "display_name": "Python 3",
      "name": "python3"
    },
    "language_info": {
      "name": "python"
    }
  },
  "nbformat": 4,
  "nbformat_minor": 0
}